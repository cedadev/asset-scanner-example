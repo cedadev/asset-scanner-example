{
 "cells": [
  {
   "cell_type": "markdown",
   "metadata": {},
   "source": [
    "# STAC Generator Example Notebook"
   ]
  },
  {
   "cell_type": "markdown",
   "metadata": {},
   "source": [
    "## Asset Generator\n",
    "\n",
    "The Asset Generator can be used extract facets. Which are then used to construct a STAC Asset."
   ]
  },
  {
   "cell_type": "code",
   "execution_count": 8,
   "metadata": {},
   "outputs": [
    {
     "name": "stdout",
     "output_type": "stream",
     "text": [
      "{\n",
      "    \"id\": 273023318,\n",
      "    \"body\": {\n",
      "        \"type\": \"asset\",\n",
      "        \"properties\": {\n",
      "            \"mip_era\": \"CMIP6\",\n",
      "            \"activity_id\": \"CMIP\",\n",
      "            \"institution_id\": \"MOHC\",\n",
      "            \"source_id\": \"UKESM1-0-LL\",\n",
      "            \"experiment_id\": \"historical\",\n",
      "            \"member_id\": \"r12i1p1f2\",\n",
      "            \"table_id\": \"Amon\",\n",
      "            \"var_id\": \"tas\",\n",
      "            \"grid_label\": \"gn\",\n",
      "            \"version\": \"v20191210\",\n",
      "            \"collection_id\": \"cmip6\"\n",
      "        },\n",
      "        \"categories\": [\n",
      "            \"data\"\n",
      "        ],\n",
      "        \"item_id\": -1722267337545928032\n",
      "    }\n",
      "}\n",
      "{\n",
      "    \"id\": 273023318,\n",
      "    \"body\": {\n",
      "        \"type\": \"asset\",\n",
      "        \"properties\": {\n",
      "            \"mip_era\": \"CMIP6\",\n",
      "            \"activity_id\": \"CMIP\",\n",
      "            \"institution_id\": \"MOHC\",\n",
      "            \"source_id\": \"UKESM1-0-LL\",\n",
      "            \"experiment_id\": \"historical\",\n",
      "            \"member_id\": \"r4i1p1f2\",\n",
      "            \"table_id\": \"Amon\",\n",
      "            \"var_id\": \"tas\",\n",
      "            \"grid_label\": \"gn\",\n",
      "            \"version\": \"v20190502\",\n",
      "            \"collection_id\": \"cmip6\"\n",
      "        },\n",
      "        \"categories\": [\n",
      "            \"data\"\n",
      "        ],\n",
      "        \"item_id\": -1722267337545928032\n",
      "    }\n",
      "}\n",
      "Processed 2 files from https://raw.githubusercontent.com/cedadev/cmip6-object-store/master/catalogs/ceda-zarr-cmip6.json in 0:00:15.685751\n"
     ]
    }
   ],
   "source": [
    "!stac_generator conf/asset-generator.yaml"
   ]
  },
  {
   "cell_type": "markdown",
   "metadata": {},
   "source": [
    "## Item Generator\n",
    "\n",
    "The item generator can be used to aggregate facets from assets or extract new facets. Which are then used to construct a STAC Item."
   ]
  },
  {
   "cell_type": "code",
   "execution_count": 9,
   "metadata": {},
   "outputs": [
    {
     "name": "stdout",
     "output_type": "stream",
     "text": [
      "{\n",
      "    \"id\": -6203318936968940900,\n",
      "    \"body\": {\n",
      "        \"type\": \"item\",\n",
      "        \"properties\": {\n",
      "            \"mip_era\": [\n",
      "                \"CMIP6\"\n",
      "            ],\n",
      "            \"activity_id\": [\n",
      "                \"CMIP\"\n",
      "            ],\n",
      "            \"institution_id\": [\n",
      "                \"MOHC\"\n",
      "            ],\n",
      "            \"source_id\": [\n",
      "                \"UKESM1-0-LL\"\n",
      "            ],\n",
      "            \"table_id\": [\n",
      "                \"Amon\"\n",
      "            ],\n",
      "            \"var_id\": [\n",
      "                \"tas\"\n",
      "            ],\n",
      "            \"version\": [\n",
      "                \"v20191210\",\n",
      "                \"v20190502\"\n",
      "            ],\n",
      "            \"collection_id\": \"cmip6\"\n",
      "        },\n",
      "        \"collection_id\": \"cmip6\",\n",
      "        \"item_id\": -6203318936968940900\n",
      "    }\n",
      "}\n",
      "{\n",
      "    \"id\": 6432692442192079723,\n",
      "    \"body\": {\n",
      "        \"type\": \"item\",\n",
      "        \"properties\": {\n",
      "            \"mip_era\": [\n",
      "                \"CMIP6\"\n",
      "            ],\n",
      "            \"activity_id\": [\n",
      "                \"CMIP\"\n",
      "            ],\n",
      "            \"institution_id\": [\n",
      "                \"MOHC\"\n",
      "            ],\n",
      "            \"source_id\": [\n",
      "                \"UKESM1-0-LL\"\n",
      "            ],\n",
      "            \"table_id\": [\n",
      "                \"Amon\"\n",
      "            ],\n",
      "            \"var_id\": [\n",
      "                \"tas\"\n",
      "            ],\n",
      "            \"version\": [\n",
      "                \"v20191210\",\n",
      "                \"v20190502\"\n",
      "            ],\n",
      "            \"collection_id\": \"cmip6\"\n",
      "        },\n",
      "        \"collection_id\": \"cmip6\",\n",
      "        \"item_id\": 6432692442192079723\n",
      "    }\n",
      "}\n"
     ]
    }
   ],
   "source": [
    "!stac_generator conf/item-generator.yaml"
   ]
  },
  {
   "cell_type": "markdown",
   "metadata": {},
   "source": [
    "# Collection Generator\n",
    "\n",
    "The collection generator can be used to aggregate facets from items or extract new facets. Which are then used to construct a STAC Collection."
   ]
  },
  {
   "cell_type": "code",
   "execution_count": 10,
   "metadata": {},
   "outputs": [
    {
     "name": "stdout",
     "output_type": "stream",
     "text": [
      "{\n",
      "    \"id\": \"cmip6\",\n",
      "    \"body\": {\n",
      "        \"type\": \"collection\",\n",
      "        \"properties\": {\n",
      "            \"mip_era\": [\n",
      "                \"CMIP6\"\n",
      "            ],\n",
      "            \"activity_id\": [\n",
      "                \"CMIP\"\n",
      "            ],\n",
      "            \"institution_id\": [\n",
      "                \"MOHC\"\n",
      "            ],\n",
      "            \"source_id\": [\n",
      "                \"UKESM1-0-LL\"\n",
      "            ],\n",
      "            \"table_id\": [\n",
      "                \"Amon\"\n",
      "            ],\n",
      "            \"var_id\": [\n",
      "                \"tas\"\n",
      "            ],\n",
      "            \"version\": [\n",
      "                \"v20190502\",\n",
      "                \"v20191210\"\n",
      "            ]\n",
      "        }\n",
      "    }\n",
      "}\n",
      "{\n",
      "    \"id\": \"cmip6\",\n",
      "    \"body\": {\n",
      "        \"type\": \"collection\",\n",
      "        \"properties\": {\n",
      "            \"mip_era\": [\n",
      "                \"CMIP6\"\n",
      "            ],\n",
      "            \"activity_id\": [\n",
      "                \"CMIP\"\n",
      "            ],\n",
      "            \"institution_id\": [\n",
      "                \"MOHC\"\n",
      "            ],\n",
      "            \"source_id\": [\n",
      "                \"UKESM1-0-LL\"\n",
      "            ],\n",
      "            \"table_id\": [\n",
      "                \"Amon\"\n",
      "            ],\n",
      "            \"var_id\": [\n",
      "                \"tas\"\n",
      "            ],\n",
      "            \"version\": [\n",
      "                \"v20190502\",\n",
      "                \"v20191210\"\n",
      "            ]\n",
      "        }\n",
      "    }\n",
      "}\n"
     ]
    }
   ],
   "source": [
    "!stac_generator conf/collection-generator.yaml"
   ]
  }
 ],
 "metadata": {
  "kernelspec": {
   "display_name": "Python 3.9.0 64-bit ('3.9.0')",
   "language": "python",
   "name": "python3"
  },
  "language_info": {
   "codemirror_mode": {
    "name": "ipython",
    "version": 3
   },
   "file_extension": ".py",
   "mimetype": "text/x-python",
   "name": "python",
   "nbconvert_exporter": "python",
   "pygments_lexer": "ipython3",
   "version": "3.9.0"
  },
  "vscode": {
   "interpreter": {
    "hash": "d1c73c238d4df8240ea6ced780499b0728d2f28f2f3fb45826ee3ad3fb6e7c26"
   }
  }
 },
 "nbformat": 4,
 "nbformat_minor": 5
}
